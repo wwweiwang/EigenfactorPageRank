{
 "cells": [
  {
   "cell_type": "code",
   "execution_count": 2,
   "metadata": {},
   "outputs": [],
   "source": [
    "import numpy as np\n",
    "import pandas as pd"
   ]
  },
  {
   "cell_type": "code",
   "execution_count": 240,
   "metadata": {
    "scrolled": true
   },
   "outputs": [],
   "source": [
    "rawdata = pd.read_csv('links.txt', sep=',', names = ['row', 'column', 'weight'])\n",
    "\n",
    "rows = set()\n",
    "for j in rawdata.row.unique():\n",
    "    rows.add(j)\n",
    "cols = set()\n",
    "for i in rawdata.column.unique():\n",
    "    cols.add(i)\n",
    "\n",
    "temp_df = pd.DataFrame()\n",
    "\n",
    "\n",
    "\n",
    "for missing_row in cols.difference(rows):\n",
    "    temp_df = temp_df.append([[missing_row,missing_row,0]], ignore_index=True)\n",
    "    \n",
    "for missing_col in rows.difference(cols):\n",
    "    temp_df = temp_df.append([[missing_col,missing_col,0]], ignore_index=True)\n",
    "temp_df.columns = ['row', 'column', 'weight']\n",
    "\n",
    "trans_df = rawdata.append(temp_df, ignore_index=True)\n",
    "\n",
    "trans_df.row = trans_df.row.astype(str)\n",
    "trans_df.column = trans_df.column.astype(str)\n",
    "\n",
    "\n",
    "data = trans_df.set_index(['row','column']).unstack('column')\n",
    "\n",
    "Z = np.array(data.weight,dtype=float)\n",
    "\n",
    "# replace nan with 0\n",
    "Z[np.isnan(Z)] = 0\n",
    "\n",
    "# row should represent cited \n",
    "# col should represent citing\n",
    "Z = Z.transpose()\n",
    "\n",
    "np.fill_diagonal(Z, 0)\n",
    "\n",
    "col_sum = Z.sum(axis = 0) \n",
    "\n",
    "H = np.copy(Z)\n",
    "\n",
    "# dangling node\n",
    "d = []\n",
    "\n",
    "# calculate dangling nodes and do normalization\n",
    "for col in range(H.shape[1]):\n",
    "    # dangling node\n",
    "        \n",
    "    if col_sum[col] == 0:\n",
    "        d.append(1)\n",
    "        continue\n",
    "    \n",
    "    d.append(0)\n",
    "    # non-dangling node\n",
    "    H[:,col] /= col_sum[col]\n",
    "\n",
    "D =  np.array([d])  \n",
    "        \n",
    "#temp_df.columns = ['row', 'column', 'weight']\n",
    "#temp_df"
   ]
  },
  {
   "cell_type": "code",
   "execution_count": 241,
   "metadata": {},
   "outputs": [
    {
     "name": "stdout",
     "output_type": "stream",
     "text": [
      "iteration 1: 0.7855686429333226\n",
      "iteration 2: 0.17165512912916014\n",
      "iteration 3: 0.08176422023597503\n",
      "iteration 4: 0.04849724938583972\n",
      "iteration 5: 0.03114176053935483\n",
      "iteration 6: 0.020621094721404467\n",
      "iteration 7: 0.013960505720150796\n",
      "iteration 8: 0.009701041898520215\n",
      "iteration 9: 0.0068554030987561234\n",
      "iteration 10: 0.0048950244819863506\n",
      "iteration 11: 0.0035260762666439248\n",
      "iteration 12: 0.0025593120101086416\n",
      "iteration 13: 0.0018695665866134638\n",
      "iteration 14: 0.0013733731939511327\n",
      "iteration 15: 0.001014101287543642\n",
      "iteration 16: 0.0007527555202661328\n",
      "iteration 17: 0.0005612270336468218\n",
      "iteration 18: 0.0004200490521078405\n",
      "iteration 19: 0.00031556090689202864\n",
      "iteration 20: 0.0002378514572574088\n",
      "iteration 21: 0.00017979610470704628\n",
      "iteration 22: 0.00013626607601955744\n",
      "iteration 23: 0.00010349075269642533\n",
      "iteration 24: 7.875090935276082e-05\n",
      "iteration 25: 6.002636361380311e-05\n",
      "iteration 26: 4.5818386723973266e-05\n",
      "iteration 27: 3.501550911529295e-05\n",
      "iteration 28: 2.6788703319299496e-05\n",
      "iteration 29: 2.0513890226805763e-05\n",
      "iteration 30: 1.5721921040069287e-05\n",
      "iteration 31: 1.2058298463930605e-05\n",
      "iteration 32: 9.254368111275408e-06\n"
     ]
    },
    {
     "data": {
      "text/plain": [
       "array([[4.38729652e-05],\n",
       "       [2.74427015e-05],\n",
       "       [1.73087650e-04],\n",
       "       ...,\n",
       "       [2.39789158e-05],\n",
       "       [1.90948271e-05],\n",
       "       [2.75902329e-05]])"
      ]
     },
     "execution_count": 241,
     "metadata": {},
     "output_type": "execute_result"
    }
   ],
   "source": [
    "P = H.copy()\n",
    "pi = np.array([[1/H.shape[0] for i in range(H.shape[0])]]).T\n",
    "\n",
    "alpha = 0.85\n",
    "epsilon = 0.00001\n",
    "\n",
    "# normalized artcile \n",
    "pi = np.array([[1/H.shape[0] for i in range(H.shape[0])]]).T\n",
    "A = np.array([[1/H.shape[0] for i in range(H.shape[0])]]).T\n",
    "\n",
    "# start iteartion\n",
    "iteration = 1\n",
    "while True:\n",
    "    new_pi = alpha * (H + A.dot(D)).dot(pi) + (1- alpha) * A\n",
    "    e = np.linalg.norm(new_pi-pi, ord=1)\n",
    "    pi = new_pi\n",
    "    \n",
    "    print (\"iteration {0}: {1}\".format(iteration, e))\n",
    "    iteration += 1\n",
    "    if e < epsilon:\n",
    "        break\n",
    "\n",
    "pi"
   ]
  },
  {
   "cell_type": "code",
   "execution_count": 235,
   "metadata": {},
   "outputs": [
    {
     "data": {
      "text/plain": [
       "[1.4336036254994982,\n",
       " 1.3985584051954771,\n",
       " 1.2226553354236727,\n",
       " 0.6726914368510128,\n",
       " 0.6582147727511158,\n",
       " 0.6282736460119049,\n",
       " 0.5714471377774861,\n",
       " 0.47599571676862695,\n",
       " 0.4729837427569814,\n",
       " 0.4353271668217957,\n",
       " 0.42541052300199556,\n",
       " 0.3823354203046117,\n",
       " 0.3812600510010095,\n",
       " 0.3757729471869965,\n",
       " 0.36905239732555406,\n",
       " 0.32699549248121007,\n",
       " 0.3242251543290151,\n",
       " 0.3160714829587204,\n",
       " 0.3136038335900688,\n",
       " 0.3081371933243322]"
      ]
     },
     "execution_count": 235,
     "metadata": {},
     "output_type": "execute_result"
    }
   ],
   "source": [
    "\n",
    "ef = (100 * H.dot(pi) / pi.sum()).T[0].tolist()\n",
    "ef.sort(reverse=True)\n",
    "ef[:20]\n"
   ]
  },
  {
   "cell_type": "code",
   "execution_count": 3,
   "metadata": {},
   "outputs": [
    {
     "data": {
      "text/plain": [
       "array([[0., 0., 2., 0., 4., 3.],\n",
       "       [3., 0., 1., 1., 0., 0.],\n",
       "       [2., 0., 0., 0., 1., 0.],\n",
       "       [0., 0., 1., 0., 0., 1.],\n",
       "       [8., 0., 3., 0., 0., 2.],\n",
       "       [0., 0., 0., 0., 0., 0.]])"
      ]
     },
     "execution_count": 3,
     "metadata": {},
     "output_type": "execute_result"
    }
   ],
   "source": [
    "case_df = pd.read_csv('case.txt', header = None, sep=',', dtype = float)\n",
    "\n",
    "Z = np.array(case_df)\n",
    "\n",
    "\n",
    "np.fill_diagonal(Z, 0)\n",
    "\n",
    "col_sum = Z.sum(axis = 0) \n",
    "\n",
    "H = np.copy(Z)\n",
    "\n",
    "H"
   ]
  },
  {
   "cell_type": "code",
   "execution_count": 11,
   "metadata": {},
   "outputs": [
    {
     "data": {
      "text/plain": [
       "array([[0.        , 0.        , 0.28571429, 0.        , 0.8       ,\n",
       "        0.5       ],\n",
       "       [0.23076923, 0.        , 0.14285714, 1.        , 0.        ,\n",
       "        0.        ],\n",
       "       [0.15384615, 0.        , 0.        , 0.        , 0.2       ,\n",
       "        0.        ],\n",
       "       [0.        , 0.        , 0.14285714, 0.        , 0.        ,\n",
       "        0.16666667],\n",
       "       [0.61538462, 0.        , 0.42857143, 0.        , 0.        ,\n",
       "        0.33333333],\n",
       "       [0.        , 0.        , 0.        , 0.        , 0.        ,\n",
       "        0.        ]])"
      ]
     },
     "execution_count": 11,
     "metadata": {},
     "output_type": "execute_result"
    }
   ],
   "source": [
    "# dangling node\n",
    "d = []\n",
    "\n",
    "# calculate dangling nodes and do normalization\n",
    "for col in range(H.shape[1]):\n",
    "    # dangling node\n",
    "        \n",
    "    if col_sum[col] == 0:\n",
    "        d.append(1)\n",
    "        continue\n",
    "    \n",
    "    d.append(0)\n",
    "    # non-dangling node\n",
    "#    for row in range(H.shape[0]):\n",
    "#        H[row, col] = H[row, col]/col_sum(col)\n",
    "\n",
    "from sklearn.preprocessing import normalize\n",
    "H= normalize(H,norm='l1',axis = 0)\n",
    "\n",
    "D =  np.array([d])  \n",
    "\n",
    "H"
   ]
  },
  {
   "cell_type": "code",
   "execution_count": 6,
   "metadata": {},
   "outputs": [
    {
     "data": {
      "text/plain": [
       "array([[0.16666667],\n",
       "       [0.16666667],\n",
       "       [0.16666667],\n",
       "       [0.16666667],\n",
       "       [0.16666667],\n",
       "       [0.16666667]])"
      ]
     },
     "execution_count": 6,
     "metadata": {},
     "output_type": "execute_result"
    }
   ],
   "source": [
    "P = H.copy()\n",
    "pi = np.array([[1/H.shape[0] for i in range(H.shape[0])]]).T\n",
    "\n",
    "pi"
   ]
  },
  {
   "cell_type": "code",
   "execution_count": 7,
   "metadata": {},
   "outputs": [
    {
     "data": {
      "text/plain": [
       "array([[0.21428571],\n",
       "       [0.14285714],\n",
       "       [0.35714286],\n",
       "       [0.07142857],\n",
       "       [0.14285714],\n",
       "       [0.07142857]])"
      ]
     },
     "execution_count": 7,
     "metadata": {},
     "output_type": "execute_result"
    }
   ],
   "source": [
    "alpha = 0.85\n",
    "epsilon = 0.00001\n",
    "\n",
    "# normalized artcile \n",
    "pi = np.array([[1/H.shape[0] for i in range(H.shape[0])]]).T\n",
    "A = np.array([[3/14, 2/14, 5/14, 1/14, 2/14, 1/14]]).T\n",
    "\n",
    "pi\n",
    "A"
   ]
  },
  {
   "cell_type": "code",
   "execution_count": 14,
   "metadata": {},
   "outputs": [
    {
     "name": "stdout",
     "output_type": "stream",
     "text": [
      "iteration 1: 2.896774479455022e-06\n"
     ]
    },
    {
     "data": {
      "text/plain": [
       "array([[0.30402213],\n",
       "       [0.16360283],\n",
       "       [0.18979629],\n",
       "       [0.04661905],\n",
       "       [0.27531241],\n",
       "       [0.02064729]])"
      ]
     },
     "execution_count": 14,
     "metadata": {},
     "output_type": "execute_result"
    }
   ],
   "source": [
    "# start iteartion\n",
    "iteration = 1\n",
    "while True:\n",
    "    b = float(alpha * D.dot(pi) + (1 - alpha))\n",
    "    \n",
    "    new_pi = alpha * H.dot(pi) + np.dot(b,A)\n",
    "    e = np.linalg.norm(new_pi-pi, ord=1)\n",
    "    pi = new_pi\n",
    "#    new_pi = alpha * (H + A.dot(D)).dot(pi) + (1- alpha) * A\n",
    "#    e = np.linalg.norm(new_pi-pi, ord=1)\n",
    "#    pi = new_pi\n",
    "    \n",
    "    print (\"iteration {0}: {1}\".format(iteration, e))\n",
    "    iteration += 1\n",
    "    if e < epsilon:\n",
    "        break\n",
    "\n",
    "pi"
   ]
  },
  {
   "cell_type": "code",
   "execution_count": 12,
   "metadata": {},
   "outputs": [
    {
     "data": {
      "text/plain": [
       "array([[0.34051006],\n",
       "       [0.17203742],\n",
       "       [0.12175455],\n",
       "       [0.03653164],\n",
       "       [0.32916632],\n",
       "       [0.        ]])"
      ]
     },
     "execution_count": 12,
     "metadata": {},
     "output_type": "execute_result"
    }
   ],
   "source": [
    "tm = H.dot(pi)\n",
    "\n",
    "ef = normalize(tm,norm='l1',axis = 0)\n",
    "\n",
    "ef\n",
    "\n",
    "\n",
    "#ef = 100 * H.dot(pi) / pi.sum()).T[0].tolist()\n",
    "\n",
    "\n",
    "\n",
    "#ef.sort(reverse=True)\n",
    "#ef[:20]"
   ]
  },
  {
   "cell_type": "code",
   "execution_count": null,
   "metadata": {},
   "outputs": [],
   "source": []
  }
 ],
 "metadata": {
  "kernelspec": {
   "display_name": "Python 3",
   "language": "python",
   "name": "python3"
  },
  "language_info": {
   "codemirror_mode": {
    "name": "ipython",
    "version": 3
   },
   "file_extension": ".py",
   "mimetype": "text/x-python",
   "name": "python",
   "nbconvert_exporter": "python",
   "pygments_lexer": "ipython3",
   "version": "3.7.0"
  }
 },
 "nbformat": 4,
 "nbformat_minor": 2
}
